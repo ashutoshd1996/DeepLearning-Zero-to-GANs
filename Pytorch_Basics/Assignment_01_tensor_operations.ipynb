{
  "cells": [
    {
      "cell_type": "markdown",
      "metadata": {
        "id": "view-in-github",
        "colab_type": "text"
      },
      "source": [
        "<a href=\"https://colab.research.google.com/github/ashutoshd1996/DeepLearning-Zero-to-GANs/blob/main/Pytorch_Basics/Assignment_01_tensor_operations.ipynb\" target=\"_parent\"><img src=\"https://colab.research.google.com/assets/colab-badge.svg\" alt=\"Open In Colab\"/></a>"
      ]
    },
    {
      "cell_type": "code",
      "execution_count": null,
      "metadata": {
        "id": "8qbwH8FoAr1M"
      },
      "outputs": [],
      "source": [
        "# Jovian Commit Essentials\n",
        "# Please retain and execute this cell without modifying the contents for `jovian.commit` to work\n",
        "!pip install jovian --upgrade -q\n",
        "import jovian\n",
        "jovian.set_project('01-tensor-operations')\n",
        "jovian.set_colab_id('1cgQCb1LQji9diJEzMcl0WyOJSqtq3FE_')"
      ]
    },
    {
      "cell_type": "markdown",
      "metadata": {
        "id": "Z5Cp2nJG0H4l"
      },
      "source": [
        "# Tensor Operations \n",
        "\n",
        "The torch package contains data structures for multi-dimensional tensors and defines mathematical operations over these tensors. Additionally, it provides many utilities for efficient serializing of Tensors and arbitrary types, and other useful utilities.\n",
        "\n",
        "- torch.zeros\n",
        "- torch.arange\n",
        "- torch.linspace\n",
        "- torch.narrow\n",
        "- torch.transpose\n",
        "\n",
        "Before we begin, let's install and import PyTorch"
      ]
    },
    {
      "cell_type": "code",
      "execution_count": null,
      "metadata": {
        "id": "8PcDHhu60H4l"
      },
      "outputs": [],
      "source": [
        "# Uncomment and run the appropriate command for your operating system, if required\n",
        "\n",
        "# Linux / Binder\n",
        "# !pip install numpy torch==1.7.0+cpu torchvision==0.8.1+cpu torchaudio==0.7.0 -f https://download.pytorch.org/whl/torch_stable.html\n",
        "\n",
        "# Windows\n",
        "# !pip install numpy torch==1.7.0+cpu torchvision==0.8.1+cpu torchaudio==0.7.0 -f https://download.pytorch.org/whl/torch_stable.html\n",
        "\n",
        "# MacOS\n",
        "# !pip install numpy torch torchvision torchaudio"
      ]
    },
    {
      "cell_type": "code",
      "execution_count": null,
      "metadata": {
        "id": "FFCDUrGw0H4m"
      },
      "outputs": [],
      "source": [
        "# Import torch and other required modules\n",
        "import torch"
      ]
    },
    {
      "cell_type": "markdown",
      "metadata": {
        "id": "Tc1QOBFo0H4n"
      },
      "source": [
        "## Function 1 - torch.zeros \n",
        "\n",
        "Returns a tensor filled with the scalar value 0, with the shape defined by the variable argument size."
      ]
    },
    {
      "cell_type": "code",
      "execution_count": null,
      "metadata": {
        "colab": {
          "base_uri": "https://localhost:8080/"
        },
        "id": "Sncn0K470H4p",
        "outputId": "1befa6bb-847e-4d72-f321-0b2f17ac0dff"
      },
      "outputs": [
        {
          "data": {
            "text/plain": [
              "tensor([0., 0., 0., 0., 0.])"
            ]
          },
          "execution_count": 3,
          "metadata": {},
          "output_type": "execute_result"
        }
      ],
      "source": [
        "# Example 1 \n",
        "torch.zeros(5)"
      ]
    },
    {
      "cell_type": "markdown",
      "metadata": {
        "id": "n2n31g5O0H4r"
      },
      "source": [
        "Example 1 creates a 1 dimensional tensor with shape 5 whose values are set to zero "
      ]
    },
    {
      "cell_type": "code",
      "execution_count": null,
      "metadata": {
        "colab": {
          "base_uri": "https://localhost:8080/"
        },
        "id": "CjZMJwMO0H4r",
        "outputId": "6cb968fd-6360-4441-f4ce-12b12fd363f4"
      },
      "outputs": [
        {
          "data": {
            "text/plain": [
              "tensor([[0., 0., 0.],\n",
              "        [0., 0., 0.]])"
            ]
          },
          "execution_count": 4,
          "metadata": {},
          "output_type": "execute_result"
        }
      ],
      "source": [
        "# Example 2 \n",
        "torch.zeros(2, 3)"
      ]
    },
    {
      "cell_type": "markdown",
      "metadata": {
        "id": "7RkbKKCh0H4u"
      },
      "source": [
        "Example 2 creates a tensor with shape (2,3) whose values are set to zero "
      ]
    },
    {
      "cell_type": "code",
      "source": [
        "# Example 3 - breaking (to illustrate when it breaks)\n",
        "torch.zeros(5.5)"
      ],
      "metadata": {
        "colab": {
          "base_uri": "https://localhost:8080/",
          "height": 165
        },
        "id": "LXTjz0biAwiS",
        "outputId": "49d93759-0a67-4241-c534-6de039dc6384"
      },
      "execution_count": null,
      "outputs": [
        {
          "output_type": "error",
          "ename": "TypeError",
          "evalue": "ignored",
          "traceback": [
            "\u001b[0;31m---------------------------------------------------------------------------\u001b[0m",
            "\u001b[0;31mTypeError\u001b[0m                                 Traceback (most recent call last)",
            "\u001b[0;32m<ipython-input-35-ed309b5318cf>\u001b[0m in \u001b[0;36m<module>\u001b[0;34m()\u001b[0m\n\u001b[0;32m----> 1\u001b[0;31m \u001b[0mtorch\u001b[0m\u001b[0;34m.\u001b[0m\u001b[0mzeros\u001b[0m\u001b[0;34m(\u001b[0m\u001b[0;36m5.5\u001b[0m\u001b[0;34m)\u001b[0m\u001b[0;34m\u001b[0m\u001b[0;34m\u001b[0m\u001b[0m\n\u001b[0m",
            "\u001b[0;31mTypeError\u001b[0m: zeros(): argument 'size' (position 1) must be tuple of ints, not float"
          ]
        }
      ]
    },
    {
      "cell_type": "markdown",
      "source": [
        "shape should be integer"
      ],
      "metadata": {
        "id": "wrWQYzQCAxnK"
      }
    },
    {
      "cell_type": "markdown",
      "metadata": {
        "id": "UZrgrJLj0H4u"
      },
      "source": [
        "We use this function when we want to create a zero tensor with shape as argument "
      ]
    },
    {
      "cell_type": "markdown",
      "metadata": {
        "id": "NfuB4khg0H4u"
      },
      "source": [
        "Let's save our work using Jovian before continuing."
      ]
    },
    {
      "cell_type": "code",
      "execution_count": null,
      "metadata": {
        "colab": {
          "base_uri": "https://localhost:8080/"
        },
        "id": "w5hvNAn10H4v",
        "outputId": "83079c4f-e431-4931-d5f4-741002ba8b06"
      },
      "outputs": [
        {
          "name": "stdout",
          "output_type": "stream",
          "text": [
            "\u001b[?25l\r",
            "\u001b[K     |████▊                           | 10 kB 22.0 MB/s eta 0:00:01\r",
            "\u001b[K     |█████████▌                      | 20 kB 29.4 MB/s eta 0:00:01\r",
            "\u001b[K     |██████████████▎                 | 30 kB 23.1 MB/s eta 0:00:01\r",
            "\u001b[K     |███████████████████             | 40 kB 8.5 MB/s eta 0:00:01\r",
            "\u001b[K     |███████████████████████▉        | 51 kB 7.9 MB/s eta 0:00:01\r",
            "\u001b[K     |████████████████████████████▋   | 61 kB 9.2 MB/s eta 0:00:01\r",
            "\u001b[K     |████████████████████████████████| 68 kB 4.0 MB/s \n",
            "\u001b[?25h  Building wheel for uuid (setup.py) ... \u001b[?25l\u001b[?25hdone\n"
          ]
        }
      ],
      "source": [
        "!pip install jovian --upgrade --quiet"
      ]
    },
    {
      "cell_type": "code",
      "execution_count": null,
      "metadata": {
        "id": "xMGPETq-0H4v"
      },
      "outputs": [],
      "source": [
        "import jovian"
      ]
    },
    {
      "cell_type": "code",
      "execution_count": null,
      "metadata": {
        "colab": {
          "base_uri": "https://localhost:8080/",
          "height": 122
        },
        "id": "Jo_hRv7_0H4v",
        "outputId": "ed348f5a-107b-4054-d8a4-93878bdfa84b"
      },
      "outputs": [
        {
          "name": "stdout",
          "output_type": "stream",
          "text": [
            "[jovian] Detected Colab notebook...\u001b[0m\n",
            "[jovian] Please enter your API key ( from https://jovian.ai/ ):\u001b[0m\n",
            "API KEY: ··········\n",
            "[jovian] Uploading colab notebook to Jovian...\u001b[0m\n",
            "Committed successfully! https://jovian.ai/ashutosh-dinesh/01-tensor-operations\n"
          ]
        },
        {
          "data": {
            "application/vnd.google.colaboratory.intrinsic+json": {
              "type": "string"
            },
            "text/plain": [
              "'https://jovian.ai/ashutosh-dinesh/01-tensor-operations'"
            ]
          },
          "execution_count": 10,
          "metadata": {},
          "output_type": "execute_result"
        }
      ],
      "source": [
        "jovian.commit(project='01-tensor-operations')"
      ]
    },
    {
      "cell_type": "markdown",
      "metadata": {
        "id": "lsbZK5aV0H4w"
      },
      "source": [
        "## Function 2 - TORCH.ARANGE\n",
        "torch.arange(start=0, end, step=1, *, out=None, dtype=None, layout=torch.strided, device=None, requires_grad=False)\n",
        "\n",
        "start (Number) – the starting value for the set of points. Default: 0.\n",
        "\n",
        "end (Number) – the ending value for the set of points\n",
        "\n",
        "step (Number) – the gap between each pair of adjacent points. Default: 1.\n"
      ]
    },
    {
      "cell_type": "code",
      "execution_count": null,
      "metadata": {
        "colab": {
          "base_uri": "https://localhost:8080/"
        },
        "id": "Vatjwzxx0H4w",
        "outputId": "dc44d11c-16af-476f-d12c-03a909da95a1"
      },
      "outputs": [
        {
          "data": {
            "text/plain": [
              "tensor([0, 1, 2, 3, 4])"
            ]
          },
          "execution_count": 11,
          "metadata": {},
          "output_type": "execute_result"
        }
      ],
      "source": [
        "# Example 1 \n",
        "torch.arange(5)"
      ]
    },
    {
      "cell_type": "markdown",
      "metadata": {
        "id": "gY6CreGB0H4x"
      },
      "source": [
        "Returns a 1-D tensor of size 5  with step 1"
      ]
    },
    {
      "cell_type": "code",
      "execution_count": null,
      "metadata": {
        "colab": {
          "base_uri": "https://localhost:8080/"
        },
        "id": "ggnlNRzi0H4x",
        "outputId": "65588368-ac3c-4000-b614-efe3623c73c6"
      },
      "outputs": [
        {
          "data": {
            "text/plain": [
              "tensor([1, 2, 3])"
            ]
          },
          "execution_count": 12,
          "metadata": {},
          "output_type": "execute_result"
        }
      ],
      "source": [
        "# Example 2 - working\n",
        "torch.arange(1, 4)"
      ]
    },
    {
      "cell_type": "markdown",
      "metadata": {
        "id": "jFlhdueX0H4x"
      },
      "source": [
        "Returns a 1-D tensor of size 3  with starting with 1 and ending before 4 with step 1"
      ]
    },
    {
      "cell_type": "code",
      "execution_count": null,
      "metadata": {
        "colab": {
          "base_uri": "https://localhost:8080/",
          "height": 183
        },
        "id": "uee6NVA00H4x",
        "outputId": "4c1a9d45-17e6-44b2-e437-a14f773180d3"
      },
      "outputs": [
        {
          "ename": "RuntimeError",
          "evalue": "ignored",
          "output_type": "error",
          "traceback": [
            "\u001b[0;31m---------------------------------------------------------------------------\u001b[0m",
            "\u001b[0;31mRuntimeError\u001b[0m                              Traceback (most recent call last)",
            "\u001b[0;32m<ipython-input-14-da7fd5f41603>\u001b[0m in \u001b[0;36m<module>\u001b[0;34m()\u001b[0m\n\u001b[1;32m      1\u001b[0m \u001b[0;31m# Example 3 - breaking (to illustrate when it breaks)\u001b[0m\u001b[0;34m\u001b[0m\u001b[0;34m\u001b[0m\u001b[0;34m\u001b[0m\u001b[0m\n\u001b[0;32m----> 2\u001b[0;31m \u001b[0mtorch\u001b[0m\u001b[0;34m.\u001b[0m\u001b[0marange\u001b[0m\u001b[0;34m(\u001b[0m\u001b[0;36m1\u001b[0m\u001b[0;34m,\u001b[0m \u001b[0;36m0.5\u001b[0m\u001b[0;34m,\u001b[0m \u001b[0;36m2.5\u001b[0m\u001b[0;34m)\u001b[0m\u001b[0;34m\u001b[0m\u001b[0;34m\u001b[0m\u001b[0m\n\u001b[0m",
            "\u001b[0;31mRuntimeError\u001b[0m: upper bound and larger bound inconsistent with step sign"
          ]
        }
      ],
      "source": [
        "# Example 3 - breaking (to illustrate when it breaks)\n",
        "torch.arange(1, 0.5, 2.5)"
      ]
    },
    {
      "cell_type": "markdown",
      "metadata": {
        "id": "nCXetdBo0H4y"
      },
      "source": [
        "End value should always be greater than step size "
      ]
    },
    {
      "cell_type": "markdown",
      "metadata": {
        "id": "UTYKn1kE0H4y"
      },
      "source": [
        "Use this function when you want to create a tensor with sqeuential values"
      ]
    },
    {
      "cell_type": "code",
      "execution_count": null,
      "metadata": {
        "colab": {
          "base_uri": "https://localhost:8080/",
          "height": 87
        },
        "id": "rK8uIETW0H4y",
        "outputId": "c6f43631-58dc-4036-e137-b463da4fab71"
      },
      "outputs": [
        {
          "name": "stdout",
          "output_type": "stream",
          "text": [
            "[jovian] Detected Colab notebook...\u001b[0m\n",
            "[jovian] Uploading colab notebook to Jovian...\u001b[0m\n",
            "Committed successfully! https://jovian.ai/ashutosh-dinesh/01-tensor-operations\n"
          ]
        },
        {
          "data": {
            "application/vnd.google.colaboratory.intrinsic+json": {
              "type": "string"
            },
            "text/plain": [
              "'https://jovian.ai/ashutosh-dinesh/01-tensor-operations'"
            ]
          },
          "execution_count": 15,
          "metadata": {},
          "output_type": "execute_result"
        }
      ],
      "source": [
        "jovian.commit(project='01-tensor-operations')"
      ]
    },
    {
      "cell_type": "markdown",
      "metadata": {
        "id": "8DSnv_dK0H4z"
      },
      "source": [
        "\n",
        "## Function 3 - torch.linspace\n",
        "\n",
        "Creates a one-dimensional tensor of size steps whose values are evenly spaced from start to end, inclusive\n",
        "\n",
        "torch.linspace(start, end, steps, *, out=None, dtype=None, layout=torch.strided, device=None, requires_grad=False) → Tensor\n",
        "\n",
        "start (float) – the starting value for the set of points\n",
        "\n",
        "end (float) – the ending value for the set of points\n",
        "\n",
        "steps (int) – size of the constructed tensor"
      ]
    },
    {
      "cell_type": "code",
      "execution_count": null,
      "metadata": {
        "colab": {
          "base_uri": "https://localhost:8080/"
        },
        "id": "QceUV8mi0H4z",
        "outputId": "b535447c-b666-424b-e0f5-9da8f6aeb2d7"
      },
      "outputs": [
        {
          "data": {
            "text/plain": [
              "tensor([ 3.0000,  4.7500,  6.5000,  8.2500, 10.0000])"
            ]
          },
          "execution_count": 16,
          "metadata": {},
          "output_type": "execute_result"
        }
      ],
      "source": [
        "# Example 1 - working\n",
        "torch.linspace(3, 10, steps=5)"
      ]
    },
    {
      "cell_type": "markdown",
      "metadata": {
        "id": "22Etd2jy0H4z"
      },
      "source": [
        "Example 1 creates a 1-Dimensional tensor of size 5 with starting value as 3 and end value as 10 "
      ]
    },
    {
      "cell_type": "code",
      "execution_count": null,
      "metadata": {
        "colab": {
          "base_uri": "https://localhost:8080/"
        },
        "id": "wFaPnpGr0H4z",
        "outputId": "242787c6-5277-4fda-f196-61fe1f5e8565"
      },
      "outputs": [
        {
          "data": {
            "text/plain": [
              "tensor([-10.,  -5.,   0.,   5.,  10.])"
            ]
          },
          "execution_count": 17,
          "metadata": {},
          "output_type": "execute_result"
        }
      ],
      "source": [
        "# Example 2 - working\n",
        "torch.linspace(-10, 10, steps=5)"
      ]
    },
    {
      "cell_type": "markdown",
      "metadata": {
        "id": "JotXeTem0H40"
      },
      "source": [
        "Example 1 creates a 1-Dimensional tensor of size 5 with starting value as -10 and end value as 10 "
      ]
    },
    {
      "cell_type": "code",
      "execution_count": null,
      "metadata": {
        "colab": {
          "base_uri": "https://localhost:8080/",
          "height": 183
        },
        "id": "zysn2fTz0H40",
        "outputId": "2e387a16-4a1b-42e2-d4af-738974de7b2f"
      },
      "outputs": [
        {
          "ename": "TypeError",
          "evalue": "ignored",
          "output_type": "error",
          "traceback": [
            "\u001b[0;31m---------------------------------------------------------------------------\u001b[0m",
            "\u001b[0;31mTypeError\u001b[0m                                 Traceback (most recent call last)",
            "\u001b[0;32m<ipython-input-21-9c7a878815de>\u001b[0m in \u001b[0;36m<module>\u001b[0;34m()\u001b[0m\n\u001b[1;32m      1\u001b[0m \u001b[0;31m# Example 3 - breaking (to illustrate when it breaks)\u001b[0m\u001b[0;34m\u001b[0m\u001b[0;34m\u001b[0m\u001b[0;34m\u001b[0m\u001b[0m\n\u001b[0;32m----> 2\u001b[0;31m \u001b[0mtorch\u001b[0m\u001b[0;34m.\u001b[0m\u001b[0mlinspace\u001b[0m\u001b[0;34m(\u001b[0m\u001b[0mstart\u001b[0m\u001b[0;34m=\u001b[0m\u001b[0;36m10\u001b[0m\u001b[0;34m,\u001b[0m \u001b[0mend\u001b[0m\u001b[0;34m=\u001b[0m\u001b[0;36m0\u001b[0m\u001b[0;34m)\u001b[0m\u001b[0;34m\u001b[0m\u001b[0;34m\u001b[0m\u001b[0m\n\u001b[0m",
            "\u001b[0;31mTypeError\u001b[0m: linspace() missing 1 required positional arguments: \"steps\""
          ]
        }
      ],
      "source": [
        "# Example 3 - breaking (to illustrate when it breaks)\n",
        "torch.linspace(start=10, end=0)"
      ]
    },
    {
      "cell_type": "markdown",
      "metadata": {
        "id": "-1upK_lv0H40"
      },
      "source": [
        "Step should always have a value"
      ]
    },
    {
      "cell_type": "markdown",
      "metadata": {
        "id": "B1qWVImb0H40"
      },
      "source": [
        "Use this function when you want to create a fixed size tensor with evenly spaced having values from start to end "
      ]
    },
    {
      "cell_type": "code",
      "execution_count": null,
      "metadata": {
        "colab": {
          "base_uri": "https://localhost:8080/",
          "height": 87
        },
        "id": "v8toQNN60H40",
        "outputId": "727afdb3-7a27-4184-a5fb-223bc6914b97"
      },
      "outputs": [
        {
          "name": "stdout",
          "output_type": "stream",
          "text": [
            "[jovian] Detected Colab notebook...\u001b[0m\n",
            "[jovian] Uploading colab notebook to Jovian...\u001b[0m\n",
            "Committed successfully! https://jovian.ai/ashutosh-dinesh/01-tensor-operations\n"
          ]
        },
        {
          "data": {
            "application/vnd.google.colaboratory.intrinsic+json": {
              "type": "string"
            },
            "text/plain": [
              "'https://jovian.ai/ashutosh-dinesh/01-tensor-operations'"
            ]
          },
          "execution_count": 22,
          "metadata": {},
          "output_type": "execute_result"
        }
      ],
      "source": [
        "jovian.commit(project='01-tensor-operations')"
      ]
    },
    {
      "cell_type": "markdown",
      "metadata": {
        "id": "wKEiSovJ0H41"
      },
      "source": [
        "## Function 4 - torch.narrow\n",
        "\n",
        "Returns a new tensor that is a narrowed version of input tensor. The dimension dim is input from start to start + length. The returned tensor and input tensor share the same underlying storage.\n",
        "\n",
        "torch.narrow(input, dim, start, length) → Tensor"
      ]
    },
    {
      "cell_type": "code",
      "execution_count": null,
      "metadata": {
        "colab": {
          "base_uri": "https://localhost:8080/"
        },
        "id": "wCkmZg_50H41",
        "outputId": "35d41de9-fbc5-41fd-cc00-b626bb328da9"
      },
      "outputs": [
        {
          "data": {
            "text/plain": [
              "tensor([[1, 2, 3],\n",
              "        [4, 5, 6]])"
            ]
          },
          "execution_count": 23,
          "metadata": {},
          "output_type": "execute_result"
        }
      ],
      "source": [
        "# Example 1 - working\n",
        "x = torch.tensor([[1, 2, 3], [4, 5, 6], [7, 8, 9]])\n",
        "torch.narrow(x, 0, 0, 2)"
      ]
    },
    {
      "cell_type": "markdown",
      "metadata": {
        "id": "QjQ3Ekya0H41"
      },
      "source": [
        "new tensor is the narrowed tensor along dimension 0 starting from index to index 2 inclusive"
      ]
    },
    {
      "cell_type": "code",
      "execution_count": null,
      "metadata": {
        "colab": {
          "base_uri": "https://localhost:8080/"
        },
        "id": "fF0AslTi0H41",
        "outputId": "15f712e8-1fbb-45ba-d097-7fab3c641d5d"
      },
      "outputs": [
        {
          "data": {
            "text/plain": [
              "tensor([[2, 3],\n",
              "        [5, 6],\n",
              "        [8, 9]])"
            ]
          },
          "execution_count": 27,
          "metadata": {},
          "output_type": "execute_result"
        }
      ],
      "source": [
        "# Example 2 - working\n",
        "torch.narrow(x, 1, 1, 2)\n"
      ]
    },
    {
      "cell_type": "markdown",
      "metadata": {
        "id": "oSBpDY2U9tyq"
      },
      "source": [
        "new tensor is the narrowed tensor along dimension 1 starting from index to index 2 inclusive"
      ]
    },
    {
      "cell_type": "code",
      "execution_count": null,
      "metadata": {
        "colab": {
          "base_uri": "https://localhost:8080/",
          "height": 183
        },
        "id": "CQhDJKqS0H42",
        "outputId": "55e7fd7e-c3c3-445c-8926-35bad22364d9"
      },
      "outputs": [
        {
          "ename": "RuntimeError",
          "evalue": "ignored",
          "output_type": "error",
          "traceback": [
            "\u001b[0;31m---------------------------------------------------------------------------\u001b[0m",
            "\u001b[0;31mRuntimeError\u001b[0m                              Traceback (most recent call last)",
            "\u001b[0;32m<ipython-input-28-c92605eb1dac>\u001b[0m in \u001b[0;36m<module>\u001b[0;34m()\u001b[0m\n\u001b[1;32m      1\u001b[0m \u001b[0;31m# Example 3 - breaking (to illustrate when it breaks)\u001b[0m\u001b[0;34m\u001b[0m\u001b[0;34m\u001b[0m\u001b[0;34m\u001b[0m\u001b[0m\n\u001b[0;32m----> 2\u001b[0;31m \u001b[0mtorch\u001b[0m\u001b[0;34m.\u001b[0m\u001b[0mnarrow\u001b[0m\u001b[0;34m(\u001b[0m\u001b[0mx\u001b[0m\u001b[0;34m,\u001b[0m \u001b[0;36m1\u001b[0m\u001b[0;34m,\u001b[0m \u001b[0;36m1\u001b[0m\u001b[0;34m,\u001b[0m \u001b[0;36m3\u001b[0m\u001b[0;34m)\u001b[0m\u001b[0;34m\u001b[0m\u001b[0;34m\u001b[0m\u001b[0m\n\u001b[0m",
            "\u001b[0;31mRuntimeError\u001b[0m: start (1) + length (3) exceeds dimension size (3)."
          ]
        }
      ],
      "source": [
        "# Example 3 - breaking (to illustrate when it breaks)\n",
        "torch.narrow(x, 1, 1, 3)"
      ]
    },
    {
      "cell_type": "markdown",
      "metadata": {
        "id": "nA9MskpV0H42"
      },
      "source": [
        "start (1) + length (3) should not exceed dimension size (3)."
      ]
    },
    {
      "cell_type": "markdown",
      "metadata": {
        "id": "-Wa4BC6o0H42"
      },
      "source": [
        "Use this function to narrow an existing tensor "
      ]
    },
    {
      "cell_type": "code",
      "execution_count": null,
      "metadata": {
        "colab": {
          "base_uri": "https://localhost:8080/",
          "height": 87
        },
        "id": "agCpzgRN0H42",
        "outputId": "516dcadf-724b-4924-8ce7-393f7b7ebfaa"
      },
      "outputs": [
        {
          "name": "stdout",
          "output_type": "stream",
          "text": [
            "[jovian] Detected Colab notebook...\u001b[0m\n",
            "[jovian] Uploading colab notebook to Jovian...\u001b[0m\n",
            "Committed successfully! https://jovian.ai/ashutosh-dinesh/01-tensor-operations\n"
          ]
        },
        {
          "data": {
            "application/vnd.google.colaboratory.intrinsic+json": {
              "type": "string"
            },
            "text/plain": [
              "'https://jovian.ai/ashutosh-dinesh/01-tensor-operations'"
            ]
          },
          "execution_count": 29,
          "metadata": {},
          "output_type": "execute_result"
        }
      ],
      "source": [
        "jovian.commit(project='01-tensor-operations')"
      ]
    },
    {
      "cell_type": "markdown",
      "metadata": {
        "id": "2NGtZ-Kh0H43"
      },
      "source": [
        "## Function 5 - torch.transpose\n",
        "\n",
        "Returns a tensor that is a transposed version of input. The given dimensions dim0 and dim1 are swapped.\n",
        "\n",
        "If input is a strided tensor then the resulting out tensor shares its underlying storage with the input tensor, so changing the content of one would change the content of the other.\n",
        "\n",
        "If input is a sparse tensor then the resulting out tensor does not share the underlying storage with the input tensor.\\\n",
        "\n",
        "torch.transpose(input, dim0, dim1) → Tensor"
      ]
    },
    {
      "cell_type": "code",
      "execution_count": null,
      "metadata": {
        "colab": {
          "base_uri": "https://localhost:8080/"
        },
        "id": "bQvOz83F0H43",
        "outputId": "e6f754df-e188-4e7f-b8f5-ae3fb5186f92"
      },
      "outputs": [
        {
          "output_type": "execute_result",
          "data": {
            "text/plain": [
              "tensor([[[1, 2]],\n",
              "\n",
              "        [[4, 5]],\n",
              "\n",
              "        [[7, 8]]])"
            ]
          },
          "metadata": {},
          "execution_count": 42
        }
      ],
      "source": [
        "x = torch.tensor([[[1, 2], [4, 5], [7, 8]]])\n",
        "torch.transpose(x, 0, 1)"
      ]
    },
    {
      "cell_type": "markdown",
      "source": [
        "Returns the transposed version of the input tensor in dimension 0"
      ],
      "metadata": {
        "id": "KORKYaE_CJqf"
      }
    },
    {
      "cell_type": "code",
      "source": [
        "torch.transpose(x, 0, 2)"
      ],
      "metadata": {
        "colab": {
          "base_uri": "https://localhost:8080/"
        },
        "id": "PKNJ76M6BbZt",
        "outputId": "1e7ecca9-f15d-4596-f610-86b5810c062a"
      },
      "execution_count": null,
      "outputs": [
        {
          "output_type": "execute_result",
          "data": {
            "text/plain": [
              "tensor([[[1],\n",
              "         [4],\n",
              "         [7]],\n",
              "\n",
              "        [[2],\n",
              "         [5],\n",
              "         [8]]])"
            ]
          },
          "metadata": {},
          "execution_count": 43
        }
      ]
    },
    {
      "cell_type": "markdown",
      "source": [
        "Returns the transposed version of the input tensor in dimension 1"
      ],
      "metadata": {
        "id": "Kz737KGSBb7f"
      }
    },
    {
      "cell_type": "code",
      "execution_count": null,
      "metadata": {
        "colab": {
          "base_uri": "https://localhost:8080/",
          "height": 165
        },
        "id": "_xe_DX5j0H43",
        "outputId": "76354ee5-59fa-4787-ef32-e96b2c99c444"
      },
      "outputs": [
        {
          "output_type": "error",
          "ename": "IndexError",
          "evalue": "ignored",
          "traceback": [
            "\u001b[0;31m---------------------------------------------------------------------------\u001b[0m",
            "\u001b[0;31mIndexError\u001b[0m                                Traceback (most recent call last)",
            "\u001b[0;32m<ipython-input-47-bf721e393205>\u001b[0m in \u001b[0;36m<module>\u001b[0;34m()\u001b[0m\n\u001b[0;32m----> 1\u001b[0;31m \u001b[0mtorch\u001b[0m\u001b[0;34m.\u001b[0m\u001b[0mtranspose\u001b[0m\u001b[0;34m(\u001b[0m\u001b[0mx\u001b[0m\u001b[0;34m,\u001b[0m \u001b[0;36m3\u001b[0m\u001b[0;34m,\u001b[0m \u001b[0;36m1\u001b[0m\u001b[0;34m)\u001b[0m\u001b[0;34m\u001b[0m\u001b[0;34m\u001b[0m\u001b[0m\n\u001b[0m",
            "\u001b[0;31mIndexError\u001b[0m: Dimension out of range (expected to be in range of [-3, 2], but got 3)"
          ]
        }
      ],
      "source": [
        "torch.transpose(x, 3, 1)"
      ]
    },
    {
      "cell_type": "markdown",
      "source": [
        "Dimension should have value between -n to n-1"
      ],
      "metadata": {
        "id": "LmkixbdiBZ8u"
      }
    },
    {
      "cell_type": "markdown",
      "metadata": {
        "id": "K6RqOOvD0H44"
      },
      "source": [
        "Use the function to get the transpose of a multidimensional tensor "
      ]
    },
    {
      "cell_type": "code",
      "execution_count": null,
      "metadata": {
        "colab": {
          "base_uri": "https://localhost:8080/",
          "height": 87
        },
        "id": "Edm60p6q0H44",
        "outputId": "cc197c75-10a9-4961-d269-63eb04161394"
      },
      "outputs": [
        {
          "name": "stdout",
          "output_type": "stream",
          "text": [
            "[jovian] Detected Colab notebook...\u001b[0m\n",
            "[jovian] Uploading colab notebook to Jovian...\u001b[0m\n",
            "Committed successfully! https://jovian.ai/ashutosh-dinesh/01-tensor-operations\n"
          ]
        },
        {
          "data": {
            "application/vnd.google.colaboratory.intrinsic+json": {
              "type": "string"
            },
            "text/plain": [
              "'https://jovian.ai/ashutosh-dinesh/01-tensor-operations'"
            ]
          },
          "execution_count": 32,
          "metadata": {},
          "output_type": "execute_result"
        }
      ],
      "source": [
        "jovian.commit(project='01-tensor-operations')"
      ]
    },
    {
      "cell_type": "markdown",
      "metadata": {
        "id": "qsac2pZL0H45"
      },
      "source": [
        "## Conclusion\n",
        "\n",
        "\n",
        "5 tensor operations were covered in this notebook "
      ]
    },
    {
      "cell_type": "markdown",
      "metadata": {
        "id": "oVYkexbx0H45"
      },
      "source": [
        "## Reference Links\n",
        "Provide links to your references and other interesting articles about tensors\n",
        "* Official documentation for tensor operations: https://pytorch.org/docs/stable/torch.html\n",
        "* ..."
      ]
    },
    {
      "cell_type": "code",
      "execution_count": null,
      "metadata": {
        "id": "NakAwlm20H45",
        "outputId": "93733f3e-7e58-4d57-a362-c4604322ad44",
        "colab": {
          "base_uri": "https://localhost:8080/",
          "height": 87
        }
      },
      "outputs": [
        {
          "output_type": "stream",
          "name": "stdout",
          "text": [
            "[jovian] Detected Colab notebook...\u001b[0m\n",
            "[jovian] Uploading colab notebook to Jovian...\u001b[0m\n",
            "Committed successfully! https://jovian.ai/ashutosh-dinesh/01-tensor-operations\n"
          ]
        },
        {
          "output_type": "execute_result",
          "data": {
            "text/plain": [
              "'https://jovian.ai/ashutosh-dinesh/01-tensor-operations'"
            ],
            "application/vnd.google.colaboratory.intrinsic+json": {
              "type": "string"
            }
          },
          "metadata": {},
          "execution_count": 48
        }
      ],
      "source": [
        "jovian.commit(project='01-tensor-operations')"
      ]
    },
    {
      "cell_type": "code",
      "execution_count": null,
      "metadata": {
        "id": "VElVBSYq0H45"
      },
      "outputs": [],
      "source": [
        ""
      ]
    }
  ],
  "metadata": {
    "colab": {
      "name": "01-tensor-operations.ipynb",
      "provenance": [],
      "include_colab_link": true
    },
    "kernelspec": {
      "display_name": "Python 3",
      "language": "python",
      "name": "python3"
    },
    "language_info": {
      "codemirror_mode": {
        "name": "ipython",
        "version": 3
      },
      "file_extension": ".py",
      "mimetype": "text/x-python",
      "name": "python",
      "nbconvert_exporter": "python",
      "pygments_lexer": "ipython3",
      "version": "3.8.5"
    }
  },
  "nbformat": 4,
  "nbformat_minor": 0
}